{
 "cells": [
  {
   "cell_type": "code",
   "execution_count": 88,
   "id": "ideal-argument",
   "metadata": {},
   "outputs": [],
   "source": [
    "%matplotlib inline\n",
    "%config InlineBackend.figure_format = 'retina'\n",
    "import numpy as np\n",
    "import torch\n",
    "import helper\n",
    "import matplotlib.pyplot as plt"
   ]
  },
  {
   "cell_type": "code",
   "execution_count": 89,
   "id": "assisted-elizabeth",
   "metadata": {},
   "outputs": [],
   "source": [
    "from torchvision import datasets, transforms\n",
    "\n",
    "transform = transforms.Compose([transforms.ToTensor(),\n",
    "                               transforms.Normalize((0.5,),(0.5,)),\n",
    "                              ])\n",
    "trainset = datasets.MNIST('~.pytorch/MNIST_data/', download = True, train = True, transform = transform)\n",
    "trainloader = torch.utils.data.DataLoader(trainset, batch_size =64, shuffle =True)"
   ]
  },
  {
   "cell_type": "code",
   "execution_count": 90,
   "id": "essential-sweden",
   "metadata": {},
   "outputs": [
    {
     "name": "stdout",
     "output_type": "stream",
     "text": [
      "<class 'torch.Tensor'>\n",
      "torch.Size([64, 1, 28, 28])\n",
      "torch.Size([64])\n"
     ]
    }
   ],
   "source": [
    "dataiter = iter(trainloader)\n",
    "images, labels = dataiter.next()\n",
    "print(type(images))\n",
    "print(images.shape)\n",
    "print(labels.shape)"
   ]
  },
  {
   "cell_type": "code",
   "execution_count": 91,
   "id": "resident-mileage",
   "metadata": {},
   "outputs": [
    {
     "data": {
      "image/png": "[encoded data removed]",
      "text/plain": [
       "<Figure size 432x288 with 1 Axes>"
      ]
     },
     "metadata": {
      "image/png": {
       "height": 248,
       "width": 251
      },
      "needs_background": "light"
     },
     "output_type": "display_data"
    }
   ],
   "source": [
    "plt.imshow(images[1].numpy().squeeze(), cmap='Greys_r');"
   ]
  },
  {
   "cell_type": "code",
   "execution_count": 92,
   "id": "organized-latin",
   "metadata": {},
   "outputs": [
    {
     "name": "stdout",
     "output_type": "stream",
     "text": [
      "tensor([[-1., -1., -1.,  ..., -1., -1., -1.],\n",
      "        [-1., -1., -1.,  ..., -1., -1., -1.],\n",
      "        [-1., -1., -1.,  ..., -1., -1., -1.],\n",
      "        ...,\n",
      "        [-1., -1., -1.,  ..., -1., -1., -1.],\n",
      "        [-1., -1., -1.,  ..., -1., -1., -1.],\n",
      "        [-1., -1., -1.,  ..., -1., -1., -1.]])\n"
     ]
    }
   ],
   "source": [
    "def activation(x):\n",
    "    return 1/(1+torch.exp(-x))\n",
    "\n",
    "inputs = images.view(images.shape[0],-1)\n",
    "print(inputs)\n",
    "    "
   ]
  },
  {
   "cell_type": "code",
   "execution_count": 93,
   "id": "private-victoria",
   "metadata": {},
   "outputs": [
    {
     "name": "stdout",
     "output_type": "stream",
     "text": [
      "tensor([[  0.1495, -18.8136,  -6.3817, -13.4349,   9.5080,   9.2192, -19.5253,\n",
      "           6.4155,  14.3340,  14.9760],\n",
      "        [  1.9083, -11.8656,  -5.2534, -15.1154,  16.7928,   6.5730, -31.1923,\n",
      "           6.0732,  12.8702,  14.6863],\n",
      "        [  6.2220, -13.2894,   4.6352, -13.5787,  11.2606,   4.4231, -18.0010,\n",
      "           4.4897,  23.5986,  11.3732],\n",
      "        [  7.2787,  -9.3439,  -0.5488,  -5.0073,   7.0180,   1.2787, -16.4169,\n",
      "           4.5051,  10.1391,   9.7328],\n",
      "        [ -7.9066, -11.0421,   3.5689, -10.9883,  22.1635,  13.2231, -22.0110,\n",
      "           7.9543,   2.4206,   1.6862],\n",
      "        [  6.1103,   5.0582,   7.8556, -10.8052,  12.3126,   4.2428, -27.7812,\n",
      "          10.3023,  10.5556,  10.1037],\n",
      "        [ -0.6432,  -5.4143,  -1.8416, -13.3093,   2.1041,   2.2604, -17.2136,\n",
      "          -7.9780,  13.1175,   3.7154],\n",
      "        [  5.9284, -17.9252, -12.7835, -10.3323,   9.6504,   7.5986, -21.8153,\n",
      "           3.9704,   6.4596,   8.3387],\n",
      "        [  2.2015,  -0.3443,   0.1814,  -3.6182,   7.2192,   6.2404, -24.5866,\n",
      "          15.4893,  13.4002,  15.8716],\n",
      "        [  6.1259, -15.9352,  16.6875,  -3.6105,  10.8876,   2.9762, -14.9754,\n",
      "          -0.9565,  14.0851,  11.9404],\n",
      "        [  3.2125,   3.8365,  10.3466, -12.2468,  16.9456,   4.5387, -20.7107,\n",
      "           4.8311,  11.5891,   6.0923],\n",
      "        [ 10.8665,   3.0381,  12.5766,   6.7875,  17.6885,   5.7964, -24.4886,\n",
      "          -3.3070,   3.3895,   4.6027],\n",
      "        [ -2.8003, -13.9939,  -6.8044,  -8.2892,  12.6960,   2.0079, -26.7874,\n",
      "           4.6995,   7.3685,   8.0446],\n",
      "        [  7.3501, -15.9514,  -7.1761,  -7.3633,  15.1495,  11.9591, -18.6990,\n",
      "          -0.0680,   3.9426,   8.8133],\n",
      "        [  7.7420, -18.4057,   8.4574, -17.1221,  14.3079,   6.3115, -22.6897,\n",
      "          -0.0904,  19.9391,  10.2568],\n",
      "        [ -9.6027,  -7.9529,  -5.9972, -12.2976,  17.8108,   5.6776, -27.6303,\n",
      "          -2.0566,  12.5451,   3.3937],\n",
      "        [ -5.5073,  -7.1546,  -3.6781,  -8.9684,  15.2438,  -0.7912, -21.9430,\n",
      "           1.5149,   4.5444,   5.5700],\n",
      "        [ -2.8186, -15.5681,   3.8269,  -9.1046,  12.1518,   5.1065, -21.1902,\n",
      "          -3.8523,   8.2518,   2.9165],\n",
      "        [  3.1203,   0.7396, -10.2580, -11.6013,  18.6128,   9.2580, -15.9587,\n",
      "          10.3427,  18.3190,   4.5180],\n",
      "        [ -0.6860, -11.6200,  -1.2408,  -7.5434,  11.3797,   6.4306, -25.5253,\n",
      "           6.8569,  19.2454,   8.5352],\n",
      "        [  1.4708,  -5.0946,  16.8600,  -8.8233,  17.7857,  -1.5778, -24.6968,\n",
      "           3.6867,  11.5123,   2.5235],\n",
      "        [ -4.3786,   3.2472,  11.2053,   0.4428,   4.8382,   7.5512, -22.6726,\n",
      "          14.1693,  14.7797,   4.1348],\n",
      "        [  8.0187,  -7.7843,   5.0044,   6.3084,   9.1435,   6.3851, -13.3927,\n",
      "           4.3733,  10.7359,  13.7986],\n",
      "        [ -1.2842,   7.0721,   1.6226,  -4.3891,   6.6957,   9.1713, -25.2115,\n",
      "          14.6863,  14.1175,   9.2893],\n",
      "        [  4.4532,  -7.7183,  -2.8323,  -4.9481,   6.6370,   9.2625, -27.2621,\n",
      "          12.1896,   5.0224,  15.4116],\n",
      "        [  3.9248,  -2.6111,   6.8376,   3.9589,  16.7021,   7.3231, -26.0022,\n",
      "          -0.9264,   9.7874,   9.2807],\n",
      "        [ -2.3273,  -0.4238,   6.5774,  -4.5453,  13.9918,   8.0273, -24.3695,\n",
      "          13.8698,  15.4011,   7.1571],\n",
      "        [ -5.4954,  -8.6977,  -6.6590, -13.4736,  19.6673,   8.4208, -27.5966,\n",
      "           3.7521,   5.3259,   9.9897],\n",
      "        [ -7.7252,  -0.1889,  -4.4855, -17.0011,  14.6333,   4.1289, -18.4175,\n",
      "           9.9471,   8.8875,  16.4368],\n",
      "        [  1.8789, -11.5562,  -1.0651,  -9.0792,  14.8352,   1.5738, -19.6702,\n",
      "           4.6124,  18.6682,  10.0557],\n",
      "        [ -4.2856, -10.5960,  -7.7393, -10.3112,  18.0096,  12.7329, -17.4265,\n",
      "           4.6185,  18.3578,   4.2265],\n",
      "        [  3.6249,  -4.8978,  -7.8264, -18.2014,   9.1731,   6.2757, -11.4194,\n",
      "           1.8276,  14.5653,   1.1866],\n",
      "        [  3.2010,  -5.4753,   5.0853,  -6.3095,  15.3973,   9.2547, -25.2322,\n",
      "           3.8993,  14.0740,   3.7960],\n",
      "        [  0.6952,  -8.1089, -12.7395, -12.8214,  16.1736,   2.4219, -22.9694,\n",
      "          12.1211,  18.4388,  16.3744],\n",
      "        [  0.3744,  -5.6861,   6.6187, -10.2346,  14.7083,   4.2648, -30.6477,\n",
      "           4.8157,  16.2710,  -0.9884],\n",
      "        [  8.3599,  -8.8996,   5.2086, -11.8752,  23.3412,  -1.7256, -27.9407,\n",
      "           6.0029,  21.3036,  10.1966],\n",
      "        [  0.3141,   2.7794,   6.6986,  -6.6709,  10.9132,   4.9931, -17.4476,\n",
      "           6.3017,  15.0048,  13.8087],\n",
      "        [ -2.1993,  -4.4842,   1.9456,   0.9362,  22.9739,   4.2356, -12.8436,\n",
      "           2.1409,  13.6607,  10.8763],\n",
      "        [  3.2376,  -7.9055,  -4.5013,  -2.4648,   6.2352,   4.9874, -13.7392,\n",
      "          -2.0938,  12.6233,  11.8169],\n",
      "        [ -2.8569,  -2.7565,   8.9457,  -4.7104,  10.8311,   3.8885, -31.7769,\n",
      "           8.7749,  20.4468,   4.0281],\n",
      "        [ -3.0108,   3.9225,  10.4614,  -8.0411,  15.0640,   4.5030, -25.6067,\n",
      "           3.0134,   6.8448,  -2.6173],\n",
      "        [  2.8656,  -7.5305,   8.6546,  -4.0499,  11.0349,  11.4276, -23.4071,\n",
      "           9.3169,  14.1146,   6.8926],\n",
      "        [ -0.3487, -11.3972,  -7.4441,  -9.7919,  14.9945,   6.4515, -23.1058,\n",
      "           6.1641,   5.7591,   6.8647],\n",
      "        [  5.5018,  -9.2272,  -2.6083,  -6.9547,  -2.0102,  17.1366, -15.0222,\n",
      "           1.8241,  13.7268,   6.7610],\n",
      "        [ -7.6437,   0.8707,   5.9758, -14.4063,  12.6318,   5.9808, -24.3504,\n",
      "           2.4698,  -0.3191,  -4.1526],\n",
      "        [ -7.4912,  -2.7300,  -4.9448, -11.6442,  17.0416,   7.4689, -18.5771,\n",
      "           6.2806,  -0.3297,   3.4406],\n",
      "        [  4.5726, -15.6680,   0.2930, -13.6184,  16.2185,   5.5858, -24.9173,\n",
      "           4.3692,  16.8918,   9.7810],\n",
      "        [ 10.4531, -15.9680,  -0.4445,  -9.6180,   8.9441,   3.5825, -21.6413,\n",
      "           3.7707,  16.9091,   7.4418],\n",
      "        [  6.0985,  -3.7456,   7.6335,  -8.5550,  10.0146,  -0.0673, -21.2116,\n",
      "           3.0569,  17.4936,   9.7121],\n",
      "        [  3.2186,  -8.9272,  -4.6909,  -7.9234,  15.4808,   2.6975, -17.9093,\n",
      "           3.5640,   7.1377,   9.6640],\n",
      "        [  4.4617,  -1.2071,   8.1917, -13.5456,  16.1535,   3.3530, -23.6384,\n",
      "           7.3579,  14.9708,   6.4076],\n",
      "        [ -1.3038,  -5.0166, -12.3689, -13.6574,  23.4181,   3.1451, -23.8938,\n",
      "          -1.1534,   7.6647,   1.4403],\n",
      "        [  6.5294,  -3.6685,   2.1789,  -4.8654,  18.8097,  10.9270, -27.5012,\n",
      "           8.0161,   6.7087,  14.7356],\n",
      "        [  1.6022,  -7.5133,   4.0384,  -6.5268,  12.9393,   8.0235, -11.5300,\n",
      "          -4.9690,  13.5185,   6.7787],\n",
      "        [  1.6436, -11.1212,   3.2634, -10.4468,  13.5926,   2.3838, -22.1884,\n",
      "           0.3854,  16.4273,   3.6990],\n",
      "        [  6.4573,  -8.1364,   3.0169,  -5.1980,  11.1128,   4.4805, -13.0885,\n",
      "          -5.3636,  -0.4393,  10.9846],\n",
      "        [ -0.3007, -10.6986,   2.4881,  -7.6763,  11.2498,   6.9821, -22.1201,\n",
      "           0.6401,  11.2790,  -2.5964],\n",
      "        [ -7.3583,  -6.9090,   6.4322, -13.2001,  19.1135,  -1.3378, -29.8863,\n",
      "           0.9147,  19.6498,  16.9371],\n",
      "        [ -9.1814, -12.1895, -14.2284,  -3.9337,   1.4957,   3.5942, -14.9921,\n",
      "           9.3153,  13.8958,  18.4150],\n",
      "        [ -1.3649, -12.5609,   0.8185,  -9.6670,  11.3253,   5.3587, -21.2698,\n",
      "          12.6277,  18.1413,  10.9418],\n",
      "        [ -6.2202,  -4.9645, -10.4542,   0.0604,   8.4147,   3.0819, -20.7116,\n",
      "           1.9236,   7.8262,   9.8723],\n",
      "        [  6.3546,  -0.8755,   1.5212,   0.8235,   9.4510,   6.8344, -15.5690,\n",
      "           4.4449,  12.3312,   6.7769],\n",
      "        [-13.2168,  -2.6913,  -1.5751, -12.7173,  19.3462,  -0.7714, -30.6646,\n",
      "          -4.2494,   7.0168,   6.3663],\n",
      "        [ -6.7842,  -1.4133,  -2.0771,  -5.5364,  18.9686,   2.7649, -33.1187,\n",
      "          -5.1776,  15.3474,   3.5422]])\n"
     ]
    }
   ],
   "source": [
    "w1 = torch.randn(784,256)\n",
    "w2 = torch.randn(256, 10)\n",
    "b1 = torch.randn(256)\n",
    "b2 = torch.randn(10)\n",
    "h = activation(torch.mm(inputs,w1)+b1)\n",
    "outputs = torch.mm(h,w2)+b2\n",
    "print(outputs)"
   ]
  },
  {
   "cell_type": "code",
   "execution_count": 94,
   "id": "close-reservoir",
   "metadata": {},
   "outputs": [
    {
     "name": "stdout",
     "output_type": "stream",
     "text": [
      "torch.Size([64, 10])\n",
      "tensor([1.0000, 1.0000, 1.0000, 1.0000, 1.0000, 1.0000, 1.0000, 1.0000, 1.0000,\n",
      "        1.0000, 1.0000, 1.0000, 1.0000, 1.0000, 1.0000, 1.0000, 1.0000, 1.0000,\n",
      "        1.0000, 1.0000, 1.0000, 1.0000, 1.0000, 1.0000, 1.0000, 1.0000, 1.0000,\n",
      "        1.0000, 1.0000, 1.0000, 1.0000, 1.0000, 1.0000, 1.0000, 1.0000, 1.0000,\n",
      "        1.0000, 1.0000, 1.0000, 1.0000, 1.0000, 1.0000, 1.0000, 1.0000, 1.0000,\n",
      "        1.0000, 1.0000, 1.0000, 1.0000, 1.0000, 1.0000, 1.0000, 1.0000, 1.0000,\n",
      "        1.0000, 1.0000, 1.0000, 1.0000, 1.0000, 1.0000, 1.0000, 1.0000, 1.0000,\n",
      "        1.0000])\n"
     ]
    }
   ],
   "source": [
    "m = nn.Softmax(dim =1)\n",
    "probabilities = m(output)\n",
    "print(probabilities.shape)\n",
    "print(probabilities.sum(dim=1))"
   ]
  },
  {
   "cell_type": "code",
   "execution_count": 95,
   "id": "cognitive-battle",
   "metadata": {},
   "outputs": [],
   "source": [
    "from torch import nn\n",
    "class Network(nn.Module):\n",
    "    def __init__(self):\n",
    "        super().__init__()\n",
    "        self.hidden = nn.Linear(784, 256)\n",
    "        self.output = nn.Linear(256, 10)\n",
    "        self.sigmoid = nn.Sigmoid()\n",
    "        self.softmax = nn.Softmax(dim=1)\n",
    "    def forward(self, x):\n",
    "        x = self.hidden(x)\n",
    "        x = self.sigmoid(x)\n",
    "        x = self.output(x)\n",
    "        x = self.softmax(x)\n",
    "        \n",
    "        return x"
   ]
  },
  {
   "cell_type": "code",
   "execution_count": 96,
   "id": "entertaining-laser",
   "metadata": {},
   "outputs": [
    {
     "data": {
      "text/plain": [
       "Network(\n",
       "  (hidden): Linear(in_features=784, out_features=256, bias=True)\n",
       "  (output): Linear(in_features=256, out_features=10, bias=True)\n",
       "  (sigmoid): Sigmoid()\n",
       "  (softmax): Softmax(dim=1)\n",
       ")"
      ]
     },
     "execution_count": 96,
     "metadata": {},
     "output_type": "execute_result"
    }
   ],
   "source": [
    "model = Network()\n",
    "model"
   ]
  },
  {
   "cell_type": "code",
   "execution_count": 97,
   "id": "human-candle",
   "metadata": {},
   "outputs": [],
   "source": [
    "import torch.nn.functional as F\n",
    "class Network(nn.Module):\n",
    "    def __init__(self):\n",
    "        super().__init__()\n",
    "        self.hidden = nn.Linear(784, 256)\n",
    "        self.hidden = nn.Linear(256, 10)\n",
    "    def forword(self, x):\n",
    "        x = F.sigmoid(self.hidden(x))\n",
    "        x = F.softmax(self.output(x), dim=1)\n",
    "        return x"
   ]
  },
  {
   "cell_type": "code",
   "execution_count": 98,
   "id": "coral-martin",
   "metadata": {},
   "outputs": [
    {
     "data": {
      "text/plain": [
       "Network(\n",
       "  (fc1): Linear(in_features=784, out_features=128, bias=True)\n",
       "  (fc2): Linear(in_features=128, out_features=64, bias=True)\n",
       "  (fc3): Linear(in_features=64, out_features=10, bias=True)\n",
       ")"
      ]
     },
     "execution_count": 98,
     "metadata": {},
     "output_type": "execute_result"
    }
   ],
   "source": [
    "class Network(nn.Module):\n",
    "    def __init__(self):\n",
    "        super().__init__()\n",
    "        self.fc1 = nn.Linear(784, 128)\n",
    "        self.fc2 = nn.Linear(128, 64)\n",
    "        self.fc3 = nn.Linear(64, 10)\n",
    "    def forward(self, x):\n",
    "        x = self.fc1(x)\n",
    "        x = F.relu(x)\n",
    "        x = self.fc2(x)\n",
    "        x = F.relu(x)\n",
    "        x = self.fc3(x)\n",
    "        x = F.softmax(x, dim =1)\n",
    "        return x\n",
    "model = Network()\n",
    "model"
   ]
  },
  {
   "cell_type": "code",
   "execution_count": 99,
   "id": "selective-paragraph",
   "metadata": {},
   "outputs": [
    {
     "name": "stdout",
     "output_type": "stream",
     "text": [
      "Parameter containing:\n",
      "tensor([[-0.0131,  0.0202,  0.0156,  ..., -0.0133,  0.0241,  0.0281],\n",
      "        [ 0.0065, -0.0033, -0.0123,  ..., -0.0254, -0.0317, -0.0103],\n",
      "        [ 0.0193, -0.0229, -0.0295,  ..., -0.0103, -0.0181,  0.0322],\n",
      "        ...,\n",
      "        [-0.0041, -0.0141, -0.0138,  ...,  0.0156, -0.0284, -0.0241],\n",
      "        [ 0.0062, -0.0325, -0.0314,  ...,  0.0150, -0.0288,  0.0008],\n",
      "        [ 0.0091, -0.0079,  0.0234,  ..., -0.0014,  0.0004, -0.0214]],\n",
      "       requires_grad=True)\n",
      "Parameter containing:\n",
      "tensor([-0.0271, -0.0122, -0.0058,  0.0231, -0.0178,  0.0146,  0.0215,  0.0333,\n",
      "        -0.0204, -0.0220,  0.0166, -0.0133, -0.0245, -0.0054, -0.0307, -0.0249,\n",
      "         0.0055, -0.0311,  0.0090, -0.0041,  0.0108, -0.0293, -0.0225, -0.0145,\n",
      "         0.0168,  0.0039, -0.0339, -0.0085, -0.0055,  0.0235,  0.0093, -0.0314,\n",
      "        -0.0086,  0.0124,  0.0047,  0.0233, -0.0072,  0.0141, -0.0212,  0.0117,\n",
      "        -0.0357,  0.0267,  0.0190, -0.0165, -0.0029,  0.0201, -0.0181,  0.0280,\n",
      "        -0.0208, -0.0016, -0.0321, -0.0065,  0.0204, -0.0301, -0.0135,  0.0291,\n",
      "        -0.0056, -0.0068,  0.0308,  0.0093,  0.0313,  0.0074, -0.0248, -0.0143,\n",
      "        -0.0338, -0.0073,  0.0182, -0.0354, -0.0330,  0.0038,  0.0070,  0.0211,\n",
      "        -0.0013, -0.0054,  0.0009,  0.0093, -0.0129,  0.0130, -0.0207,  0.0342,\n",
      "         0.0157, -0.0337, -0.0336,  0.0185, -0.0240, -0.0070,  0.0338, -0.0002,\n",
      "         0.0196, -0.0245,  0.0137, -0.0047,  0.0188, -0.0315, -0.0254, -0.0346,\n",
      "        -0.0173, -0.0135,  0.0201, -0.0046, -0.0063, -0.0025, -0.0102, -0.0201,\n",
      "         0.0114, -0.0308,  0.0332,  0.0227, -0.0285, -0.0266,  0.0111,  0.0104,\n",
      "         0.0246, -0.0018, -0.0143, -0.0267, -0.0114, -0.0169, -0.0160,  0.0143,\n",
      "         0.0330,  0.0134, -0.0233,  0.0256,  0.0267,  0.0036,  0.0176, -0.0011],\n",
      "       requires_grad=True)\n"
     ]
    }
   ],
   "source": [
    "print(model.fc1.weight)\n",
    "print(model.fc1.bias)"
   ]
  },
  {
   "cell_type": "code",
   "execution_count": 100,
   "id": "subsequent-combat",
   "metadata": {},
   "outputs": [
    {
     "data": {
      "text/plain": [
       "tensor([0., 0., 0., 0., 0., 0., 0., 0., 0., 0., 0., 0., 0., 0., 0., 0., 0., 0., 0., 0., 0., 0., 0., 0.,\n",
       "        0., 0., 0., 0., 0., 0., 0., 0., 0., 0., 0., 0., 0., 0., 0., 0., 0., 0., 0., 0., 0., 0., 0., 0.,\n",
       "        0., 0., 0., 0., 0., 0., 0., 0., 0., 0., 0., 0., 0., 0., 0., 0., 0., 0., 0., 0., 0., 0., 0., 0.,\n",
       "        0., 0., 0., 0., 0., 0., 0., 0., 0., 0., 0., 0., 0., 0., 0., 0., 0., 0., 0., 0., 0., 0., 0., 0.,\n",
       "        0., 0., 0., 0., 0., 0., 0., 0., 0., 0., 0., 0., 0., 0., 0., 0., 0., 0., 0., 0., 0., 0., 0., 0.,\n",
       "        0., 0., 0., 0., 0., 0., 0., 0.])"
      ]
     },
     "execution_count": 100,
     "metadata": {},
     "output_type": "execute_result"
    }
   ],
   "source": [
    "model.fc1.bias.data.fill_(0)"
   ]
  },
  {
   "cell_type": "code",
   "execution_count": 101,
   "id": "recognized-single",
   "metadata": {},
   "outputs": [
    {
     "data": {
      "text/plain": [
       "tensor([[-0.0110,  0.0018,  0.0085,  ..., -0.0005,  0.0031, -0.0037],\n",
       "        [-0.0006, -0.0214, -0.0030,  ..., -0.0136,  0.0032, -0.0075],\n",
       "        [ 0.0006, -0.0003,  0.0030,  ..., -0.0064, -0.0089, -0.0065],\n",
       "        ...,\n",
       "        [-0.0065, -0.0168, -0.0016,  ...,  0.0108, -0.0027, -0.0046],\n",
       "        [-0.0166, -0.0087, -0.0071,  ...,  0.0157, -0.0115,  0.0059],\n",
       "        [ 0.0099, -0.0034, -0.0013,  ...,  0.0034,  0.0025,  0.0259]])"
      ]
     },
     "execution_count": 101,
     "metadata": {},
     "output_type": "execute_result"
    }
   ],
   "source": [
    "model.fc1.weight.data.normal_(std=0.01)"
   ]
  },
  {
   "cell_type": "code",
   "execution_count": 102,
   "id": "vocational-gibraltar",
   "metadata": {},
   "outputs": [
    {
     "data": {
      "image/png": "[encoded data removed]",
      "text/plain": [
       "<Figure size 432x648 with 2 Axes>"
      ]
     },
     "metadata": {
      "image/png": {
       "height": 235,
       "width": 424
      },
      "needs_background": "light"
     },
     "output_type": "display_data"
    }
   ],
   "source": [
    "dataiter = iter(trainloader)\n",
    "images,labels = dataiter.next()\n",
    "images.resize_(64,1,784)\n",
    "img_idx=0\n",
    "ps = model.forward(images[img_idx,:])\n",
    "img = images[img_idx]\n",
    "helper.view_classify(img.view(1,28,28),ps)\n"
   ]
  },
  {
   "cell_type": "code",
   "execution_count": 103,
   "id": "disabled-fantasy",
   "metadata": {},
   "outputs": [
    {
     "name": "stdout",
     "output_type": "stream",
     "text": [
      "Sequential(\n",
      "  (0): Linear(in_features=784, out_features=128, bias=True)\n",
      "  (1): ReLU()\n",
      "  (2): Linear(in_features=128, out_features=64, bias=True)\n",
      "  (3): ReLU()\n",
      "  (4): Linear(in_features=64, out_features=10, bias=True)\n",
      "  (5): Softmax(dim=1)\n",
      ")\n"
     ]
    },
    {
     "data": {
      "image/png": "[encoded data removed]",
      "text/plain": [
       "<Figure size 432x648 with 2 Axes>"
      ]
     },
     "metadata": {
      "image/png": {
       "height": 235,
       "width": 424
      },
      "needs_background": "light"
     },
     "output_type": "display_data"
    }
   ],
   "source": [
    "input_size = 784\n",
    "hidden_sizes = [128,64]\n",
    "output_size = 10\n",
    "model = nn.Sequential(nn.Linear(784, hidden_sizes[0]),\n",
    "                      nn.ReLU(),\n",
    "                      nn.Linear(hidden_sizes[0],hidden_sizes[1]),\n",
    "                      nn.ReLU(),\n",
    "                      nn.Linear(hidden_sizes[1],10),\n",
    "                      nn.Softmax(dim=1))\n",
    "print(model)\n",
    "images,labels = next(iter(trainloader))\n",
    "images.resize_(images.shape[0],1,784)\n",
    "ps = model.forward(images[0,:])\n",
    "helper.view_classify(images[0].view(1,28,28),ps)\n",
    "                      \n"
   ]
  },
  {
   "cell_type": "code",
   "execution_count": 104,
   "id": "systematic-malawi",
   "metadata": {},
   "outputs": [
    {
     "name": "stdout",
     "output_type": "stream",
     "text": [
      "Linear(in_features=784, out_features=128, bias=True)\n"
     ]
    },
    {
     "data": {
      "text/plain": [
       "Parameter containing:\n",
       "tensor([[ 0.0207,  0.0240,  0.0080,  ..., -0.0175, -0.0103,  0.0140],\n",
       "        [ 0.0041, -0.0216, -0.0251,  ..., -0.0169,  0.0023, -0.0052],\n",
       "        [ 0.0196,  0.0127,  0.0117,  ...,  0.0182, -0.0176, -0.0320],\n",
       "        ...,\n",
       "        [ 0.0172, -0.0315, -0.0203,  ...,  0.0316, -0.0322, -0.0279],\n",
       "        [-0.0252,  0.0235, -0.0203,  ...,  0.0218, -0.0162, -0.0314],\n",
       "        [-0.0112,  0.0038,  0.0110,  ...,  0.0092, -0.0117,  0.0323]],\n",
       "       requires_grad=True)"
      ]
     },
     "execution_count": 104,
     "metadata": {},
     "output_type": "execute_result"
    }
   ],
   "source": [
    "print(model[0])\n",
    "model[0].weight"
   ]
  },
  {
   "cell_type": "code",
   "execution_count": 105,
   "id": "dedicated-milton",
   "metadata": {},
   "outputs": [
    {
     "data": {
      "text/plain": [
       "Sequential(\n",
       "  (fc1): Linear(in_features=784, out_features=128, bias=True)\n",
       "  (relu1): ReLU()\n",
       "  (fc2): Linear(in_features=128, out_features=64, bias=True)\n",
       "  (relu2): ReLU()\n",
       "  (output): Linear(in_features=64, out_features=10, bias=True)\n",
       "  (softmax): Softmax(dim=1)\n",
       ")"
      ]
     },
     "execution_count": 105,
     "metadata": {},
     "output_type": "execute_result"
    }
   ],
   "source": [
    "from collections import OrderedDict\n",
    "model = nn.Sequential(OrderedDict([\n",
    "                      ('fc1', nn.Linear(input_size, hidden_sizes[0])),\n",
    "                      ('relu1', nn.ReLU()),\n",
    "                      ('fc2', nn.Linear(hidden_sizes[0], hidden_sizes[1])),\n",
    "                      ('relu2', nn.ReLU()),\n",
    "                      ('output', nn.Linear(hidden_sizes[1], output_size)),\n",
    "                      ('softmax', nn.Softmax(dim=1))]))\n",
    "model"
   ]
  },
  {
   "cell_type": "code",
   "execution_count": 106,
   "id": "moderate-bookmark",
   "metadata": {},
   "outputs": [
    {
     "name": "stdout",
     "output_type": "stream",
     "text": [
      "Linear(in_features=784, out_features=128, bias=True)\n",
      "Linear(in_features=784, out_features=128, bias=True)\n"
     ]
    }
   ],
   "source": [
    "print(model[0])\n",
    "print(model.fc1)"
   ]
  }
 ],
 "metadata": {
  "kernelspec": {
   "display_name": "Python 3",
   "language": "python",
   "name": "python3"
  },
  "language_info": {
   "codemirror_mode": {
    "name": "ipython",
    "version": 3
   },
   "file_extension": ".py",
   "mimetype": "text/x-python",
   "name": "python",
   "nbconvert_exporter": "python",
   "pygments_lexer": "ipython3",
   "version": "3.9.1"
  }
 },
 "nbformat": 4,
 "nbformat_minor": 5
}
