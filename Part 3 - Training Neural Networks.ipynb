{
 "cells": [
  {
   "cell_type": "code",
   "execution_count": 1,
   "id": "elect-correlation",
   "metadata": {},
   "outputs": [],
   "source": [
    "import torch\n",
    "from torch import nn\n",
    "import torch.nn.functional as F\n",
    "from torchvision import datasets, transforms\n",
    "transform = transforms.Compose([transforms.ToTensor(),\n",
    "                               transforms.Normalize((0.5),(0.5)),\n",
    "                               ])\n",
    "trainset = datasets.MNIST('~/.pytorch/MNIST_data/', download=True, train=True, transform=transform)\n",
    "trainloader = torch.utils.data.DataLoader(trainset, batch_size=64, shuffle=True)"
   ]
  },
  {
   "cell_type": "code",
   "execution_count": 5,
   "id": "animal-failing",
   "metadata": {},
   "outputs": [
    {
     "name": "stdout",
     "output_type": "stream",
     "text": [
      "tensor(2.3234, grad_fn=<NllLossBackward>)\n"
     ]
    }
   ],
   "source": [
    "model = nn.Sequential(nn.Linear(784,128),\n",
    "                     nn.ReLU(),\n",
    "                     nn.Linear(128,64),\n",
    "                     nn.ReLU(),\n",
    "                     nn.Linear(64,10))\n",
    "criterion = nn.CrossEntropyLoss()\n",
    "images, labels = next(iter(trainloader))\n",
    "images = images.view(images.shape[0], -1)\n",
    "logits = model(images)\n",
    "loss = criterion(logits, labels)\n",
    "print(loss)"
   ]
  },
  {
   "cell_type": "code",
   "execution_count": 13,
   "id": "textile-scientist",
   "metadata": {},
   "outputs": [
    {
     "name": "stdout",
     "output_type": "stream",
     "text": [
      "tensor(2.3421, grad_fn=<NllLossBackward>)\n"
     ]
    }
   ],
   "source": [
    "model = nn.Sequential(nn.Linear(784,128),\n",
    "                     nn.ReLU(),\n",
    "                     nn.Linear(128,64),\n",
    "                     nn.ReLU(),\n",
    "                     nn.Linear(64,10),\n",
    "                     nn.LogSoftmax(dim=1))\n",
    "criterion = nn.NLLLoss()\n",
    "\n",
    "images,labels = next(iter(trainloader))\n",
    "images = images.view(images.shape[0],-1)\n",
    "logits = model(images)\n",
    "loss = criterion(logits,labels)\n",
    "print(loss)"
   ]
  },
  {
   "cell_type": "code",
   "execution_count": 14,
   "id": "special-biology",
   "metadata": {},
   "outputs": [
    {
     "name": "stdout",
     "output_type": "stream",
     "text": [
      "tensor([[-0.2614, -1.6814],\n",
      "        [ 0.3950, -1.3915]], requires_grad=True)\n"
     ]
    }
   ],
   "source": [
    "x = torch.randn(2,2,requires_grad=True)\n",
    "print(x)"
   ]
  },
  {
   "cell_type": "code",
   "execution_count": 15,
   "id": "level-science",
   "metadata": {},
   "outputs": [
    {
     "name": "stdout",
     "output_type": "stream",
     "text": [
      "tensor([[0.0683, 2.8273],\n",
      "        [0.1561, 1.9364]], grad_fn=<PowBackward0>)\n"
     ]
    }
   ],
   "source": [
    "y = x**2\n",
    "print(y)"
   ]
  },
  {
   "cell_type": "code",
   "execution_count": 17,
   "id": "technical-straight",
   "metadata": {},
   "outputs": [
    {
     "name": "stdout",
     "output_type": "stream",
     "text": [
      "<built-in function iter>\n"
     ]
    }
   ],
   "source": [
    "print(iter)"
   ]
  },
  {
   "cell_type": "code",
   "execution_count": 18,
   "id": "associate-skating",
   "metadata": {},
   "outputs": [
    {
     "name": "stdout",
     "output_type": "stream",
     "text": [
      "<built-in function next>\n"
     ]
    }
   ],
   "source": [
    "print(next)"
   ]
  },
  {
   "cell_type": "code",
   "execution_count": 19,
   "id": "complicated-things",
   "metadata": {},
   "outputs": [
    {
     "name": "stdout",
     "output_type": "stream",
     "text": [
      "<PowBackward0 object at 0x7f5db881beb0>\n"
     ]
    }
   ],
   "source": [
    "print(y.grad_fn)"
   ]
  },
  {
   "cell_type": "code",
   "execution_count": 20,
   "id": "medical-robin",
   "metadata": {},
   "outputs": [
    {
     "name": "stdout",
     "output_type": "stream",
     "text": [
      "tensor(1.2470, grad_fn=<MeanBackward0>)\n"
     ]
    }
   ],
   "source": [
    "p = y.mean()\n",
    "print(p)"
   ]
  },
  {
   "cell_type": "code",
   "execution_count": 21,
   "id": "meaning-patrol",
   "metadata": {},
   "outputs": [
    {
     "name": "stdout",
     "output_type": "stream",
     "text": [
      "tensor([[-0.1307, -0.8407],\n",
      "        [ 0.1975, -0.6958]])\n",
      "tensor([[-0.1307, -0.8407],\n",
      "        [ 0.1975, -0.6958]], grad_fn=<DivBackward0>)\n"
     ]
    }
   ],
   "source": [
    "p.backward()\n",
    "print(x.grad)\n",
    "print(x/2)"
   ]
  },
  {
   "cell_type": "code",
   "execution_count": 25,
   "id": "renewable-fourth",
   "metadata": {},
   "outputs": [],
   "source": [
    "model = nn.Sequential(nn.Linear(784, 128),\n",
    "                      nn.ReLU(),\n",
    "                      nn.Linear(128, 64),\n",
    "                      nn.ReLU(),\n",
    "                      nn.Linear(64, 10),\n",
    "                      nn.LogSoftmax(dim=1))\n",
    "criterion = nn.NLLLoss()\n",
    "images, labels = next(iter(trainloader))\n",
    "images = images.view(images.shape[0], -1)\n",
    "logits = model(images)\n",
    "loss = criterion(logits, labels)"
   ]
  },
  {
   "cell_type": "code",
   "execution_count": 26,
   "id": "chinese-fiber",
   "metadata": {},
   "outputs": [
    {
     "name": "stdout",
     "output_type": "stream",
     "text": [
      "Before backward pass: \n",
      " None\n",
      "After backward pass: \n",
      " tensor([[-1.0361e-03, -1.0361e-03, -1.0361e-03,  ..., -1.0361e-03,\n",
      "         -1.0361e-03, -1.0361e-03],\n",
      "        [-6.0623e-05, -6.0623e-05, -6.0623e-05,  ..., -6.0623e-05,\n",
      "         -6.0623e-05, -6.0623e-05],\n",
      "        [-1.4973e-03, -1.4973e-03, -1.4973e-03,  ..., -1.4973e-03,\n",
      "         -1.4973e-03, -1.4973e-03],\n",
      "        ...,\n",
      "        [ 7.7462e-06,  7.7462e-06,  7.7462e-06,  ...,  7.7462e-06,\n",
      "          7.7462e-06,  7.7462e-06],\n",
      "        [-5.2127e-04, -5.2127e-04, -5.2127e-04,  ..., -5.2127e-04,\n",
      "         -5.2127e-04, -5.2127e-04],\n",
      "        [ 6.2140e-04,  6.2140e-04,  6.2140e-04,  ...,  6.2140e-04,\n",
      "          6.2140e-04,  6.2140e-04]])\n"
     ]
    }
   ],
   "source": [
    "print('Before backward pass: \\n', model[0].weight.grad)\n",
    "loss.backward()\n",
    "print('After backward pass: \\n', model[0].weight.grad)"
   ]
  },
  {
   "cell_type": "code",
   "execution_count": 27,
   "id": "assured-moral",
   "metadata": {},
   "outputs": [],
   "source": [
    "# Training the network\n",
    "from torch import optim\n",
    "optimizer = optim.SGD(model.parameters(), lr = 0.01)\n"
   ]
  },
  {
   "cell_type": "code",
   "execution_count": 33,
   "id": "excessive-grace",
   "metadata": {},
   "outputs": [
    {
     "name": "stdout",
     "output_type": "stream",
     "text": [
      "Parameter containing:\n",
      "tensor([[ 0.0191,  0.0279,  0.0125,  ..., -0.0194,  0.0042,  0.0076],\n",
      "        [-0.0182, -0.0089, -0.0232,  ...,  0.0235,  0.0255,  0.0159],\n",
      "        [-0.0251, -0.0054, -0.0063,  ..., -0.0026, -0.0145,  0.0051],\n",
      "        ...,\n",
      "        [ 0.0272, -0.0195,  0.0225,  ...,  0.0215, -0.0240, -0.0084],\n",
      "        [ 0.0110,  0.0165,  0.0074,  ..., -0.0256,  0.0208, -0.0005],\n",
      "        [-0.0106, -0.0063, -0.0246,  ...,  0.0010,  0.0326, -0.0346]],\n",
      "       requires_grad=True)\n",
      "tensor([[-0.0004, -0.0004, -0.0004,  ..., -0.0004, -0.0004, -0.0004],\n",
      "        [ 0.0008,  0.0008,  0.0008,  ...,  0.0008,  0.0008,  0.0008],\n",
      "        [ 0.0016,  0.0016,  0.0016,  ...,  0.0016,  0.0016,  0.0016],\n",
      "        ...,\n",
      "        [-0.0015, -0.0015, -0.0015,  ..., -0.0015, -0.0015, -0.0015],\n",
      "        [-0.0015, -0.0015, -0.0015,  ..., -0.0015, -0.0015, -0.0015],\n",
      "        [ 0.0006,  0.0006,  0.0006,  ...,  0.0006,  0.0006,  0.0006]])\n"
     ]
    }
   ],
   "source": [
    "print(model[0].weight)\n",
    "images, labels = next(iter(trainloader))\n",
    "images.resize_(64, 784)\n",
    "\n",
    "optimizer.zero_grad()\n",
    "output =model(images)\n",
    "loss = criterion(output, labels)\n",
    "loss.backward()\n",
    "print(model[0].weight.grad)"
   ]
  },
  {
   "cell_type": "code",
   "execution_count": 34,
   "id": "suspended-advocate",
   "metadata": {},
   "outputs": [
    {
     "name": "stdout",
     "output_type": "stream",
     "text": [
      "Updated weights -  Parameter containing:\n",
      "tensor([[ 0.0191,  0.0279,  0.0125,  ..., -0.0194,  0.0042,  0.0076],\n",
      "        [-0.0182, -0.0089, -0.0232,  ...,  0.0235,  0.0255,  0.0159],\n",
      "        [-0.0251, -0.0054, -0.0063,  ..., -0.0026, -0.0145,  0.0051],\n",
      "        ...,\n",
      "        [ 0.0272, -0.0195,  0.0226,  ...,  0.0215, -0.0239, -0.0084],\n",
      "        [ 0.0110,  0.0165,  0.0074,  ..., -0.0256,  0.0208, -0.0004],\n",
      "        [-0.0106, -0.0063, -0.0246,  ...,  0.0010,  0.0326, -0.0346]],\n",
      "       requires_grad=True)\n"
     ]
    }
   ],
   "source": [
    "optimizer.step()\n",
    "print('Updated weights - ', model[0].weight)"
   ]
  },
  {
   "cell_type": "code",
   "execution_count": 37,
   "id": "hispanic-volleyball",
   "metadata": {},
   "outputs": [
    {
     "name": "stdout",
     "output_type": "stream",
     "text": [
      "{2.008348879815419}\n",
      "{2.5641349546436563}\n",
      "{2.540095566686537}\n",
      "{2.5631399907028753}\n",
      "{2.5963198050761274}\n",
      "{2.654329817686508}\n",
      "{2.6800663743191944}\n",
      "{2.730483985658902}\n",
      "{2.864411003554045}\n",
      "{2.908825506533641}\n"
     ]
    }
   ],
   "source": [
    "model = nn.Sequential(nn.Linear(784, 128),\n",
    "                      nn.ReLU(),\n",
    "                      nn.Linear(128, 64),\n",
    "                      nn.ReLU(),\n",
    "                      nn.Linear(64, 10),\n",
    "                      nn.LogSoftmax(dim=1))\n",
    "criterion = nn.CrossEntropyLoss()\n",
    "optimizer = optim.SGD(model.parameters(), lr = 0.01)\n",
    "epochs = 10\n",
    "for e in range(epochs):\n",
    "    running_loss = 0\n",
    "    for images,labels in trainloader:\n",
    "        images = images.view(images.shape[0],-1)\n",
    "        output = model(images)\n",
    "        loss = criterion(output, labels)\n",
    "        loss.backward()\n",
    "        optimizer.step()\n",
    "        running_loss +=loss.item()\n",
    "    else:\n",
    "        print({running_loss/len(trainloader)})"
   ]
  },
  {
   "cell_type": "code",
   "execution_count": null,
   "id": "roman-japanese",
   "metadata": {},
   "outputs": [],
   "source": []
  }
 ],
 "metadata": {
  "kernelspec": {
   "display_name": "Python 3",
   "language": "python",
   "name": "python3"
  },
  "language_info": {
   "codemirror_mode": {
    "name": "ipython",
    "version": 3
   },
   "file_extension": ".py",
   "mimetype": "text/x-python",
   "name": "python",
   "nbconvert_exporter": "python",
   "pygments_lexer": "ipython3",
   "version": "3.9.1"
  }
 },
 "nbformat": 4,
 "nbformat_minor": 5
}
