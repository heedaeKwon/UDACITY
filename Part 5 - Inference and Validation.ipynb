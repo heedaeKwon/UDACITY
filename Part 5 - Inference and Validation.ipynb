{
 "cells": [
  {
   "cell_type": "code",
   "execution_count": 1,
   "id": "joined-structure",
   "metadata": {},
   "outputs": [],
   "source": [
    "import torch\n",
    "from torchvision import datasets, transforms\n",
    "\n",
    "\n",
    "transform = transforms.Compose([transforms.ToTensor(),\n",
    "                                transforms.Normalize((0.5,), (0.5,))])\n",
    "\n",
    "trainset = datasets.FashionMNIST('~/.pytorch/F_MNIST_data/', download=True, train=True, transform=transform)\n",
    "trainloader = torch.utils.data.DataLoader(trainset, batch_size=64, shuffle=True)\n",
    "\n",
    "\n",
    "testset = datasets.FashionMNIST('~/.pytorch/F_MNIST_data/', download=True, train=False, transform=transform)\n",
    "testloader = torch.utils.data.DataLoader(testset, batch_size=64, shuffle=True)"
   ]
  },
  {
   "cell_type": "code",
   "execution_count": 11,
   "id": "modular-feelings",
   "metadata": {},
   "outputs": [],
   "source": [
    "from torch import nn, optim\n",
    "import torch.nn.functional as F\n",
    "class Classifier(nn.Module):\n",
    "    def __init__(self):\n",
    "        super().__init__()\n",
    "        self.fc1 = nn.Linear(784, 256)\n",
    "        self.fc2 = nn.Linear(256, 128)\n",
    "        self.fc3 = nn.Linear(128, 64)\n",
    "        self.fc4 = nn.Linear(64, 10)\n",
    "    def forward(self, x):\n",
    "        x = x.view(x.shape[0],-1)\n",
    "        x = F.relu(self.fc1(x))\n",
    "        x = F.relu(self.fc2(x))\n",
    "        x = F.relu(self.fc3(x))\n",
    "        x = F.log_softmax(self.fc4(x), dim=1)\n",
    "        return x"
   ]
  },
  {
   "cell_type": "code",
   "execution_count": 12,
   "id": "least-agenda",
   "metadata": {},
   "outputs": [
    {
     "name": "stdout",
     "output_type": "stream",
     "text": [
      "torch.Size([64, 10])\n"
     ]
    }
   ],
   "source": [
    "model = Classifier()\n",
    "\n",
    "images, labels = next(iter(testloader))\n",
    "ps = torch.exp(model(images))\n",
    "print(ps.shape)"
   ]
  },
  {
   "cell_type": "code",
   "execution_count": 14,
   "id": "concerned-omega",
   "metadata": {},
   "outputs": [
    {
     "name": "stdout",
     "output_type": "stream",
     "text": [
      "tensor([[2],\n",
      "        [5],\n",
      "        [2],\n",
      "        [2],\n",
      "        [2],\n",
      "        [2],\n",
      "        [2],\n",
      "        [2],\n",
      "        [5],\n",
      "        [2]])\n"
     ]
    }
   ],
   "source": [
    "top_p, top_class = ps.topk(1,dim=1) #topk를 사용한다 예측에서는 가장 비슷한거를 고르려면 ps.topk(1)\n",
    "print(top_class[:10,:])"
   ]
  },
  {
   "cell_type": "code",
   "execution_count": 16,
   "id": "disturbed-swimming",
   "metadata": {},
   "outputs": [
    {
     "ename": "RuntimeError",
     "evalue": "Can only calculate the mean of floating types. Got Bool instead.",
     "output_type": "error",
     "traceback": [
      "\u001b[0;31m---------------------------------------------------------------------------\u001b[0m",
      "\u001b[0;31mRuntimeError\u001b[0m                              Traceback (most recent call last)",
      "\u001b[0;32m<ipython-input-16-976c40297cab>\u001b[0m in \u001b[0;36m<module>\u001b[0;34m\u001b[0m\n\u001b[1;32m      1\u001b[0m \u001b[0mequals\u001b[0m \u001b[0;34m=\u001b[0m \u001b[0mtop_class\u001b[0m \u001b[0;34m==\u001b[0m \u001b[0mlabels\u001b[0m\u001b[0;34m.\u001b[0m\u001b[0mview\u001b[0m\u001b[0;34m(\u001b[0m\u001b[0;34m*\u001b[0m\u001b[0mtop_class\u001b[0m\u001b[0;34m.\u001b[0m\u001b[0mshape\u001b[0m\u001b[0;34m)\u001b[0m\u001b[0;34m\u001b[0m\u001b[0;34m\u001b[0m\u001b[0m\n\u001b[0;32m----> 2\u001b[0;31m \u001b[0mtorch\u001b[0m\u001b[0;34m.\u001b[0m\u001b[0mmean\u001b[0m\u001b[0;34m(\u001b[0m\u001b[0mequals\u001b[0m\u001b[0;34m)\u001b[0m\u001b[0;34m\u001b[0m\u001b[0;34m\u001b[0m\u001b[0m\n\u001b[0m",
      "\u001b[0;31mRuntimeError\u001b[0m: Can only calculate the mean of floating types. Got Bool instead."
     ]
    }
   ],
   "source": [
    "equals = top_class == labels.view(*top_class.shape)\n",
    "torch.mean(equals)"
   ]
  },
  {
   "cell_type": "code",
   "execution_count": 19,
   "id": "fabulous-saver",
   "metadata": {},
   "outputs": [
    {
     "name": "stdout",
     "output_type": "stream",
     "text": [
      "Accuracy: 6.25%\n"
     ]
    }
   ],
   "source": [
    "accuracy = torch.mean(equals.type(torch.FloatTensor))\n",
    "print(f'Accuracy: {accuracy.item()*100}%')"
   ]
  },
  {
   "cell_type": "code",
   "execution_count": 21,
   "id": "stuck-huntington",
   "metadata": {},
   "outputs": [
    {
     "name": "stdout",
     "output_type": "stream",
     "text": [
      "Accuracy: 6.25%\n",
      "Accuracy: 6.25%\n",
      "Accuracy: 6.25%\n",
      "Accuracy: 6.25%\n",
      "Accuracy: 6.25%\n",
      "Accuracy: 6.25%\n",
      "Accuracy: 6.25%\n",
      "Accuracy: 6.25%\n",
      "Accuracy: 6.25%\n",
      "Accuracy: 6.25%\n",
      "Accuracy: 6.25%\n",
      "Accuracy: 6.25%\n",
      "Accuracy: 6.25%\n",
      "Accuracy: 6.25%\n",
      "Accuracy: 6.25%\n",
      "Accuracy: 6.25%\n",
      "Accuracy: 6.25%\n",
      "Accuracy: 6.25%\n",
      "Accuracy: 6.25%\n",
      "Accuracy: 6.25%\n",
      "Accuracy: 6.25%\n",
      "Accuracy: 6.25%\n",
      "Accuracy: 6.25%\n",
      "Accuracy: 6.25%\n",
      "Accuracy: 6.25%\n",
      "Accuracy: 6.25%\n",
      "Accuracy: 6.25%\n",
      "Accuracy: 6.25%\n",
      "Accuracy: 6.25%\n",
      "Accuracy: 6.25%\n"
     ]
    }
   ],
   "source": [
    "model = Classifier()\n",
    "\n",
    "criterion = nn.NLLLoss()\n",
    "optimizer = optim.Adam(model.parameters(), lr=0.003)\n",
    "\n",
    "epochs = 30\n",
    "steps = 0\n",
    "train_losses, test_losses = [], []\n",
    "for e  in range(epochs):\n",
    "    running_loss = 0\n",
    "    for images, labels, in trainloader:\n",
    "        optimizer.zero_grad()\n",
    "        log_ps = model(images)\n",
    "        loss = criterion(log_ps, labels)\n",
    "        optimizer.step()\n",
    "        running_loss += loss.item()\n",
    "    else:\n",
    "        print(f'Accuracy: {accuracy.item()*100}%')"
   ]
  },
  {
   "cell_type": "code",
   "execution_count": 22,
   "id": "loaded-blood",
   "metadata": {},
   "outputs": [],
   "source": [
    "class Classifier(nn.Module):\n",
    "    def __init__(self):\n",
    "        super().__init__()\n",
    "        self.fc1 = nn.Linear(784, 256)\n",
    "        self.fc2 = nn.Linear(256, 128)\n",
    "        self.fc3 = nn.Linear(128, 64)\n",
    "        self.fc4 = nn.Linear(64, 10)\n",
    "\n",
    "      \n",
    "        self.dropout = nn.Dropout(p=0.2)\n",
    "\n",
    "    def forward(self, x):\n",
    "        x = x.view(x.shape[0], -1)\n",
    "        x = self.dropout(F.relu(self.fc1(x)))\n",
    "        x = self.dropout(F.relu(self.fc2(x)))\n",
    "        x = self.dropout(F.relu(self.fc3(x)))\n",
    "        x = F.log_softmax(self.fc4(x), dim=1)\n",
    "\n",
    "        return x"
   ]
  },
  {
   "cell_type": "code",
   "execution_count": 25,
   "id": "engaging-artwork",
   "metadata": {},
   "outputs": [
    {
     "name": "stdout",
     "output_type": "stream",
     "text": [
      "Epoch: 1/30..  Training Loss: 0.603..  Test Loss: 0.491..  Test Accuracy: 0.822\n",
      "Epoch: 2/30..  Training Loss: 0.478..  Test Loss: 0.439..  Test Accuracy: 0.842\n",
      "Epoch: 3/30..  Training Loss: 0.449..  Test Loss: 0.419..  Test Accuracy: 0.848\n",
      "Epoch: 4/30..  Training Loss: 0.428..  Test Loss: 0.408..  Test Accuracy: 0.854\n",
      "Epoch: 5/30..  Training Loss: 0.417..  Test Loss: 0.421..  Test Accuracy: 0.845\n",
      "Epoch: 6/30..  Training Loss: 0.408..  Test Loss: 0.408..  Test Accuracy: 0.853\n",
      "Epoch: 7/30..  Training Loss: 0.402..  Test Loss: 0.417..  Test Accuracy: 0.848\n",
      "Epoch: 8/30..  Training Loss: 0.395..  Test Loss: 0.380..  Test Accuracy: 0.863\n",
      "Epoch: 9/30..  Training Loss: 0.393..  Test Loss: 0.381..  Test Accuracy: 0.863\n",
      "Epoch: 10/30..  Training Loss: 0.388..  Test Loss: 0.380..  Test Accuracy: 0.867\n",
      "Epoch: 11/30..  Training Loss: 0.381..  Test Loss: 0.370..  Test Accuracy: 0.870\n",
      "Epoch: 12/30..  Training Loss: 0.378..  Test Loss: 0.369..  Test Accuracy: 0.868\n",
      "Epoch: 13/30..  Training Loss: 0.378..  Test Loss: 0.395..  Test Accuracy: 0.869\n",
      "Epoch: 14/30..  Training Loss: 0.371..  Test Loss: 0.391..  Test Accuracy: 0.863\n",
      "Epoch: 15/30..  Training Loss: 0.373..  Test Loss: 0.385..  Test Accuracy: 0.867\n",
      "Epoch: 16/30..  Training Loss: 0.368..  Test Loss: 0.392..  Test Accuracy: 0.869\n",
      "Epoch: 17/30..  Training Loss: 0.376..  Test Loss: 0.381..  Test Accuracy: 0.865\n",
      "Epoch: 18/30..  Training Loss: 0.361..  Test Loss: 0.387..  Test Accuracy: 0.869\n",
      "Epoch: 19/30..  Training Loss: 0.362..  Test Loss: 0.376..  Test Accuracy: 0.868\n",
      "Epoch: 20/30..  Training Loss: 0.357..  Test Loss: 0.397..  Test Accuracy: 0.860\n",
      "Epoch: 21/30..  Training Loss: 0.356..  Test Loss: 0.381..  Test Accuracy: 0.871\n",
      "Epoch: 22/30..  Training Loss: 0.356..  Test Loss: 0.363..  Test Accuracy: 0.874\n",
      "Epoch: 23/30..  Training Loss: 0.356..  Test Loss: 0.387..  Test Accuracy: 0.865\n",
      "Epoch: 24/30..  Training Loss: 0.350..  Test Loss: 0.371..  Test Accuracy: 0.875\n",
      "Epoch: 25/30..  Training Loss: 0.347..  Test Loss: 0.385..  Test Accuracy: 0.871\n",
      "Epoch: 26/30..  Training Loss: 0.347..  Test Loss: 0.383..  Test Accuracy: 0.872\n",
      "Epoch: 27/30..  Training Loss: 0.348..  Test Loss: 0.376..  Test Accuracy: 0.875\n",
      "Epoch: 28/30..  Training Loss: 0.350..  Test Loss: 0.378..  Test Accuracy: 0.869\n",
      "Epoch: 29/30..  Training Loss: 0.355..  Test Loss: 0.365..  Test Accuracy: 0.876\n",
      "Epoch: 30/30..  Training Loss: 0.342..  Test Loss: 0.372..  Test Accuracy: 0.879\n"
     ]
    }
   ],
   "source": [
    "model = Classifier()\n",
    "criterion = nn.NLLLoss()\n",
    "optimizer = optim.Adam(model.parameters(), lr=0.003)\n",
    "\n",
    "epochs = 30\n",
    "steps = 0\n",
    "\n",
    "train_losses, test_losses = [], []\n",
    "for e in range(epochs):\n",
    "    running_loss = 0\n",
    "    for images, labels in trainloader:\n",
    "        \n",
    "        optimizer.zero_grad()\n",
    "        \n",
    "        log_ps = model(images)\n",
    "        loss = criterion(log_ps, labels)\n",
    "        loss.backward()\n",
    "        optimizer.step()\n",
    "        \n",
    "        running_loss += loss.item()\n",
    "        \n",
    "    else:\n",
    "        test_loss = 0\n",
    "        accuracy = 0\n",
    "        \n",
    "        # Turn off gradients for validation, saves memory and computations\n",
    "        with torch.no_grad():\n",
    "            model.eval()\n",
    "            for images, labels in testloader:\n",
    "                log_ps = model(images)\n",
    "                test_loss += criterion(log_ps, labels)\n",
    "                \n",
    "                ps = torch.exp(log_ps)\n",
    "                top_p, top_class = ps.topk(1, dim=1)\n",
    "                equals = top_class == labels.view(*top_class.shape)\n",
    "                accuracy += torch.mean(equals.type(torch.FloatTensor))\n",
    "        \n",
    "        model.train()\n",
    "        \n",
    "        train_losses.append(running_loss/len(trainloader))\n",
    "        test_losses.append(test_loss/len(testloader))\n",
    "\n",
    "        print(\"Epoch: {}/{}.. \".format(e+1, epochs),\n",
    "              \"Training Loss: {:.3f}.. \".format(train_losses[-1]),\n",
    "                            \"Test Loss: {:.3f}.. \".format(test_losses[-1]),\n",
    "              \"Test Accuracy: {:.3f}\".format(accuracy/len(testloader)))"
   ]
  },
  {
   "cell_type": "code",
   "execution_count": 26,
   "id": "auburn-significance",
   "metadata": {},
   "outputs": [
    {
     "data": {
      "text/plain": [
       "<matplotlib.legend.Legend at 0x7f3231d2e790>"
      ]
     },
     "execution_count": 26,
     "metadata": {},
     "output_type": "execute_result"
    },
    {
     "data": {
      "image/png": "[encoded data removed]",
      "text/plain": [
       "<Figure size 432x288 with 1 Axes>"
      ]
     },
     "metadata": {
      "image/png": {
       "height": 248,
       "width": 380
      },
      "needs_background": "light"
     },
     "output_type": "display_data"
    }
   ],
   "source": [
    "%matplotlib inline\n",
    "%config InlineBackend.figure_format = 'retina'\n",
    "\n",
    "import matplotlib.pyplot as plt\n",
    "plt.plot(train_losses, label='Training loss')\n",
    "plt.plot(test_losses, label='Validation loss')\n",
    "plt.legend(frameon=False)"
   ]
  },
  {
   "cell_type": "code",
   "execution_count": 27,
   "id": "detailed-cameroon",
   "metadata": {},
   "outputs": [
    {
     "data": {
      "image/png": "[encoded data removed]",
      "text/plain": [
       "<Figure size 432x648 with 2 Axes>"
      ]
     },
     "metadata": {
      "image/png": {
       "height": 216,
       "width": 424
      },
      "needs_background": "light"
     },
     "output_type": "display_data"
    }
   ],
   "source": [
    "\n",
    "import helper\n",
    "model.eval()\n",
    "dataiter = iter(testloader)\n",
    "images, labels = dataiter.next()\n",
    "img = images[0]\n",
    "img = img.view(1, 784)\n",
    "with torch.no_grad():\n",
    "    output = model.forward(img)\n",
    "ps = torch.exp(output)\n",
    "helper.view_classify(img.view(1, 28, 28), ps, version='Fashion')"
   ]
  },
  {
   "cell_type": "code",
   "execution_count": null,
   "id": "prepared-award",
   "metadata": {},
   "outputs": [],
   "source": []
  }
 ],
 "metadata": {
  "kernelspec": {
   "display_name": "Python 3",
   "language": "python",
   "name": "python3"
  },
  "language_info": {
   "codemirror_mode": {
    "name": "ipython",
    "version": 3
   },
   "file_extension": ".py",
   "mimetype": "text/x-python",
   "name": "python",
   "nbconvert_exporter": "python",
   "pygments_lexer": "ipython3",
   "version": "3.9.1"
  }
 },
 "nbformat": 4,
 "nbformat_minor": 5
}
